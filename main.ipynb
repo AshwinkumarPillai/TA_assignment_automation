{
  "cells": [
    {
      "cell_type": "code",
      "execution_count": 1,
      "metadata": {},
      "outputs": [],
      "source": [
        "# from src.utils.setCurrDirToBase import setCurrDirToBase\n",
        "# setCurrDirToBase()"
      ]
    },
    {
      "cell_type": "code",
      "execution_count": 2,
      "metadata": {},
      "outputs": [
        {
          "ename": "ModuleNotFoundError",
          "evalue": "No module named 'data'",
          "output_type": "error",
          "traceback": [
            "\u001b[0;31m---------------------------------------------------------------------------\u001b[0m",
            "\u001b[0;31mModuleNotFoundError\u001b[0m                       Traceback (most recent call last)",
            "Cell \u001b[0;32mIn[2], line 3\u001b[0m\n\u001b[1;32m      1\u001b[0m \u001b[39mimport\u001b[39;00m \u001b[39mjson\u001b[39;00m\n\u001b[1;32m      2\u001b[0m \u001b[39m# Scripts\u001b[39;00m\n\u001b[0;32m----> 3\u001b[0m \u001b[39mfrom\u001b[39;00m \u001b[39mta_assignment_automation\u001b[39;00m\u001b[39m.\u001b[39;00m\u001b[39mscripts\u001b[39;00m\u001b[39m.\u001b[39;00m\u001b[39mparse_courses\u001b[39;00m \u001b[39mimport\u001b[39;00m parseCourses\n\u001b[1;32m      4\u001b[0m \u001b[39mfrom\u001b[39;00m \u001b[39mta_assignment_automation\u001b[39;00m\u001b[39m.\u001b[39;00m\u001b[39mscripts\u001b[39;00m\u001b[39m.\u001b[39;00m\u001b[39mparse_sections\u001b[39;00m \u001b[39mimport\u001b[39;00m parseSections\n\u001b[1;32m      5\u001b[0m \u001b[39mfrom\u001b[39;00m \u001b[39mta_assignment_automation\u001b[39;00m\u001b[39m.\u001b[39;00m\u001b[39mscripts\u001b[39;00m\u001b[39m.\u001b[39;00m\u001b[39mparse_schedule\u001b[39;00m \u001b[39mimport\u001b[39;00m parseSchedule\n",
            "File \u001b[0;32m~/Desktop/This PC/IMP/UGA/FINAL_PROJECT/COPY_OF_MAIN/MAIN_APP/ta_assignment_automation/__init__.py:26\u001b[0m\n\u001b[1;32m     12\u001b[0m \u001b[39mfrom\u001b[39;00m \u001b[39m.\u001b[39;00m\u001b[39msrc\u001b[39;00m\u001b[39m.\u001b[39;00m\u001b[39malgorithms\u001b[39;00m \u001b[39mimport\u001b[39;00m(\n\u001b[1;32m     13\u001b[0m     hungarian\n\u001b[1;32m     14\u001b[0m )\n\u001b[1;32m     16\u001b[0m \u001b[39mfrom\u001b[39;00m \u001b[39m.\u001b[39;00m\u001b[39msrc\u001b[39;00m\u001b[39m.\u001b[39;00m\u001b[39mconfig\u001b[39;00m \u001b[39mimport\u001b[39;00m(\n\u001b[1;32m     17\u001b[0m     capacity_cap,\n\u001b[1;32m     18\u001b[0m     daysMapping,\n\u001b[0;32m   (...)\u001b[0m\n\u001b[1;32m     23\u001b[0m     timeSlotMapping\n\u001b[1;32m     24\u001b[0m )\n\u001b[0;32m---> 26\u001b[0m \u001b[39mfrom\u001b[39;00m \u001b[39m.\u001b[39;00m\u001b[39msrc\u001b[39;00m\u001b[39m.\u001b[39;00m\u001b[39mdb_access\u001b[39;00m \u001b[39mimport\u001b[39;00m(\n\u001b[1;32m     27\u001b[0m     connect,\n\u001b[1;32m     28\u001b[0m     create_tables,\n\u001b[1;32m     29\u001b[0m     insert_data,\n\u001b[1;32m     30\u001b[0m     models\n\u001b[1;32m     31\u001b[0m )\n\u001b[1;32m     33\u001b[0m \u001b[39mfrom\u001b[39;00m \u001b[39m.\u001b[39;00m\u001b[39msrc\u001b[39;00m\u001b[39m.\u001b[39;00m\u001b[39mscripts\u001b[39;00m \u001b[39mimport\u001b[39;00m(\n\u001b[1;32m     34\u001b[0m     combined_view,\n\u001b[1;32m     35\u001b[0m     compute_conflict_matrix,\n\u001b[0;32m   (...)\u001b[0m\n\u001b[1;32m     49\u001b[0m     splitTAHours,\n\u001b[1;32m     50\u001b[0m )\n",
            "File \u001b[0;32m~/Desktop/This PC/IMP/UGA/FINAL_PROJECT/COPY_OF_MAIN/MAIN_APP/ta_assignment_automation/src/db_access/connect.py:14\u001b[0m\n\u001b[1;32m     11\u001b[0m parent_path \u001b[39m=\u001b[39m os\u001b[39m.\u001b[39mpath\u001b[39m.\u001b[39mjoin(current_path, \u001b[39m'\u001b[39m\u001b[39m..\u001b[39m\u001b[39m'\u001b[39m)\n\u001b[1;32m     12\u001b[0m sys\u001b[39m.\u001b[39mpath\u001b[39m.\u001b[39mappend(parent_path)\n\u001b[0;32m---> 14\u001b[0m \u001b[39mfrom\u001b[39;00m \u001b[39mdata\u001b[39;00m\u001b[39m.\u001b[39;00m\u001b[39mdb_config\u001b[39;00m \u001b[39mimport\u001b[39;00m db_url\n\u001b[1;32m     16\u001b[0m \u001b[39m# DB CONNECTION CODE BELOW\u001b[39;00m\n\u001b[1;32m     18\u001b[0m engine \u001b[39m=\u001b[39m create_engine(db_url, echo\u001b[39m=\u001b[39m\u001b[39mTrue\u001b[39;00m)\n",
            "\u001b[0;31mModuleNotFoundError\u001b[0m: No module named 'data'"
          ]
        }
      ],
      "source": [
        "import json\n",
        "# Scripts\n",
        "from ta_assignment_automation import parseCourses\n",
        "from ta_assignment_automation import parseSections\n",
        "from ta_assignment_automation import parseSchedule\n",
        "from ta_assignment_automation import combine_course_schedules\n",
        "from ta_assignment_automation import parseTAData\n",
        "from ta_assignment_automation import parseInstructorPref\n",
        "from ta_assignment_automation import computeConflictMatrix\n",
        "from ta_assignment_automation import create_final_sections\n",
        "from ta_assignment_automation import duplicateTAs\n",
        "from ta_assignment_automation import incremental_TA_duplication\n"
      ]
    },
    {
      "cell_type": "code",
      "execution_count": null,
      "metadata": {},
      "outputs": [],
      "source": [
        "# Utility files\n",
        "from ta_assignment_automation import getConflictMatFromTxt\n",
        "from ta_assignment_automation import showAssignments\n",
        "from ta_assignment_automation import splitTAhours\n",
        "from ta_assignment_automation import convertInputFilesToJSON\n"
      ]
    },
    {
      "cell_type": "code",
      "execution_count": null,
      "metadata": {},
      "outputs": [],
      "source": [
        "# Algorithms\n",
        "from ta_assignment_automation import hungarian"
      ]
    },
    {
      "cell_type": "code",
      "execution_count": null,
      "metadata": {},
      "outputs": [
        {
          "ename": "FileNotFoundError",
          "evalue": "[Errno 2] No such file or directory: 'input_files/TA_schedule.csv'",
          "output_type": "error",
          "traceback": [
            "\u001b[0;31m---------------------------------------------------------------------------\u001b[0m",
            "\u001b[0;31mFileNotFoundError\u001b[0m                         Traceback (most recent call last)",
            "Cell \u001b[0;32mIn[25], line 1\u001b[0m\n\u001b[0;32m----> 1\u001b[0m convertInputFilesToJSON()\n",
            "File \u001b[0;32m~/Desktop/This PC/IMP/UGA/FINAL_PROJECT/COPY_OF_MAIN/MAIN_APP/ta_assignment_automation/utils/convertCSVtoJSON.py:35\u001b[0m, in \u001b[0;36mconvertInputFilesToJSON\u001b[0;34m(inp_folder, json_folder)\u001b[0m\n",
            "File \u001b[0;32m~/Desktop/This PC/IMP/UGA/FINAL_PROJECT/COPY_OF_MAIN/MAIN_APP/ta_assignment_automation/utils/convertCSVtoJSON.py:35\u001b[0m, in \u001b[0;36m<listcomp>\u001b[0;34m(.0)\u001b[0m\n",
            "File \u001b[0;32m~/.pyenv/versions/3.8.15/lib/python3.8/site-packages/pandas/util/_decorators.py:311\u001b[0m, in \u001b[0;36mdeprecate_nonkeyword_arguments.<locals>.decorate.<locals>.wrapper\u001b[0;34m(*args, **kwargs)\u001b[0m\n\u001b[1;32m    305\u001b[0m \u001b[39mif\u001b[39;00m \u001b[39mlen\u001b[39m(args) \u001b[39m>\u001b[39m num_allow_args:\n\u001b[1;32m    306\u001b[0m     warnings\u001b[39m.\u001b[39mwarn(\n\u001b[1;32m    307\u001b[0m         msg\u001b[39m.\u001b[39mformat(arguments\u001b[39m=\u001b[39marguments),\n\u001b[1;32m    308\u001b[0m         \u001b[39mFutureWarning\u001b[39;00m,\n\u001b[1;32m    309\u001b[0m         stacklevel\u001b[39m=\u001b[39mstacklevel,\n\u001b[1;32m    310\u001b[0m     )\n\u001b[0;32m--> 311\u001b[0m \u001b[39mreturn\u001b[39;00m func(\u001b[39m*\u001b[39;49margs, \u001b[39m*\u001b[39;49m\u001b[39m*\u001b[39;49mkwargs)\n",
            "File \u001b[0;32m~/.pyenv/versions/3.8.15/lib/python3.8/site-packages/pandas/io/parsers/readers.py:680\u001b[0m, in \u001b[0;36mread_csv\u001b[0;34m(filepath_or_buffer, sep, delimiter, header, names, index_col, usecols, squeeze, prefix, mangle_dupe_cols, dtype, engine, converters, true_values, false_values, skipinitialspace, skiprows, skipfooter, nrows, na_values, keep_default_na, na_filter, verbose, skip_blank_lines, parse_dates, infer_datetime_format, keep_date_col, date_parser, dayfirst, cache_dates, iterator, chunksize, compression, thousands, decimal, lineterminator, quotechar, quoting, doublequote, escapechar, comment, encoding, encoding_errors, dialect, error_bad_lines, warn_bad_lines, on_bad_lines, delim_whitespace, low_memory, memory_map, float_precision, storage_options)\u001b[0m\n\u001b[1;32m    665\u001b[0m kwds_defaults \u001b[39m=\u001b[39m _refine_defaults_read(\n\u001b[1;32m    666\u001b[0m     dialect,\n\u001b[1;32m    667\u001b[0m     delimiter,\n\u001b[0;32m   (...)\u001b[0m\n\u001b[1;32m    676\u001b[0m     defaults\u001b[39m=\u001b[39m{\u001b[39m\"\u001b[39m\u001b[39mdelimiter\u001b[39m\u001b[39m\"\u001b[39m: \u001b[39m\"\u001b[39m\u001b[39m,\u001b[39m\u001b[39m\"\u001b[39m},\n\u001b[1;32m    677\u001b[0m )\n\u001b[1;32m    678\u001b[0m kwds\u001b[39m.\u001b[39mupdate(kwds_defaults)\n\u001b[0;32m--> 680\u001b[0m \u001b[39mreturn\u001b[39;00m _read(filepath_or_buffer, kwds)\n",
            "File \u001b[0;32m~/.pyenv/versions/3.8.15/lib/python3.8/site-packages/pandas/io/parsers/readers.py:575\u001b[0m, in \u001b[0;36m_read\u001b[0;34m(filepath_or_buffer, kwds)\u001b[0m\n\u001b[1;32m    572\u001b[0m _validate_names(kwds\u001b[39m.\u001b[39mget(\u001b[39m\"\u001b[39m\u001b[39mnames\u001b[39m\u001b[39m\"\u001b[39m, \u001b[39mNone\u001b[39;00m))\n\u001b[1;32m    574\u001b[0m \u001b[39m# Create the parser.\u001b[39;00m\n\u001b[0;32m--> 575\u001b[0m parser \u001b[39m=\u001b[39m TextFileReader(filepath_or_buffer, \u001b[39m*\u001b[39;49m\u001b[39m*\u001b[39;49mkwds)\n\u001b[1;32m    577\u001b[0m \u001b[39mif\u001b[39;00m chunksize \u001b[39mor\u001b[39;00m iterator:\n\u001b[1;32m    578\u001b[0m     \u001b[39mreturn\u001b[39;00m parser\n",
            "File \u001b[0;32m~/.pyenv/versions/3.8.15/lib/python3.8/site-packages/pandas/io/parsers/readers.py:933\u001b[0m, in \u001b[0;36mTextFileReader.__init__\u001b[0;34m(self, f, engine, **kwds)\u001b[0m\n\u001b[1;32m    930\u001b[0m     \u001b[39mself\u001b[39m\u001b[39m.\u001b[39moptions[\u001b[39m\"\u001b[39m\u001b[39mhas_index_names\u001b[39m\u001b[39m\"\u001b[39m] \u001b[39m=\u001b[39m kwds[\u001b[39m\"\u001b[39m\u001b[39mhas_index_names\u001b[39m\u001b[39m\"\u001b[39m]\n\u001b[1;32m    932\u001b[0m \u001b[39mself\u001b[39m\u001b[39m.\u001b[39mhandles: IOHandles \u001b[39m|\u001b[39m \u001b[39mNone\u001b[39;00m \u001b[39m=\u001b[39m \u001b[39mNone\u001b[39;00m\n\u001b[0;32m--> 933\u001b[0m \u001b[39mself\u001b[39m\u001b[39m.\u001b[39m_engine \u001b[39m=\u001b[39m \u001b[39mself\u001b[39;49m\u001b[39m.\u001b[39;49m_make_engine(f, \u001b[39mself\u001b[39;49m\u001b[39m.\u001b[39;49mengine)\n",
            "File \u001b[0;32m~/.pyenv/versions/3.8.15/lib/python3.8/site-packages/pandas/io/parsers/readers.py:1217\u001b[0m, in \u001b[0;36mTextFileReader._make_engine\u001b[0;34m(self, f, engine)\u001b[0m\n\u001b[1;32m   1213\u001b[0m     mode \u001b[39m=\u001b[39m \u001b[39m\"\u001b[39m\u001b[39mrb\u001b[39m\u001b[39m\"\u001b[39m\n\u001b[1;32m   1214\u001b[0m \u001b[39m# error: No overload variant of \"get_handle\" matches argument types\u001b[39;00m\n\u001b[1;32m   1215\u001b[0m \u001b[39m# \"Union[str, PathLike[str], ReadCsvBuffer[bytes], ReadCsvBuffer[str]]\"\u001b[39;00m\n\u001b[1;32m   1216\u001b[0m \u001b[39m# , \"str\", \"bool\", \"Any\", \"Any\", \"Any\", \"Any\", \"Any\"\u001b[39;00m\n\u001b[0;32m-> 1217\u001b[0m \u001b[39mself\u001b[39m\u001b[39m.\u001b[39mhandles \u001b[39m=\u001b[39m get_handle(  \u001b[39m# type: ignore[call-overload]\u001b[39;49;00m\n\u001b[1;32m   1218\u001b[0m     f,\n\u001b[1;32m   1219\u001b[0m     mode,\n\u001b[1;32m   1220\u001b[0m     encoding\u001b[39m=\u001b[39;49m\u001b[39mself\u001b[39;49m\u001b[39m.\u001b[39;49moptions\u001b[39m.\u001b[39;49mget(\u001b[39m\"\u001b[39;49m\u001b[39mencoding\u001b[39;49m\u001b[39m\"\u001b[39;49m, \u001b[39mNone\u001b[39;49;00m),\n\u001b[1;32m   1221\u001b[0m     compression\u001b[39m=\u001b[39;49m\u001b[39mself\u001b[39;49m\u001b[39m.\u001b[39;49moptions\u001b[39m.\u001b[39;49mget(\u001b[39m\"\u001b[39;49m\u001b[39mcompression\u001b[39;49m\u001b[39m\"\u001b[39;49m, \u001b[39mNone\u001b[39;49;00m),\n\u001b[1;32m   1222\u001b[0m     memory_map\u001b[39m=\u001b[39;49m\u001b[39mself\u001b[39;49m\u001b[39m.\u001b[39;49moptions\u001b[39m.\u001b[39;49mget(\u001b[39m\"\u001b[39;49m\u001b[39mmemory_map\u001b[39;49m\u001b[39m\"\u001b[39;49m, \u001b[39mFalse\u001b[39;49;00m),\n\u001b[1;32m   1223\u001b[0m     is_text\u001b[39m=\u001b[39;49mis_text,\n\u001b[1;32m   1224\u001b[0m     errors\u001b[39m=\u001b[39;49m\u001b[39mself\u001b[39;49m\u001b[39m.\u001b[39;49moptions\u001b[39m.\u001b[39;49mget(\u001b[39m\"\u001b[39;49m\u001b[39mencoding_errors\u001b[39;49m\u001b[39m\"\u001b[39;49m, \u001b[39m\"\u001b[39;49m\u001b[39mstrict\u001b[39;49m\u001b[39m\"\u001b[39;49m),\n\u001b[1;32m   1225\u001b[0m     storage_options\u001b[39m=\u001b[39;49m\u001b[39mself\u001b[39;49m\u001b[39m.\u001b[39;49moptions\u001b[39m.\u001b[39;49mget(\u001b[39m\"\u001b[39;49m\u001b[39mstorage_options\u001b[39;49m\u001b[39m\"\u001b[39;49m, \u001b[39mNone\u001b[39;49;00m),\n\u001b[1;32m   1226\u001b[0m )\n\u001b[1;32m   1227\u001b[0m \u001b[39massert\u001b[39;00m \u001b[39mself\u001b[39m\u001b[39m.\u001b[39mhandles \u001b[39mis\u001b[39;00m \u001b[39mnot\u001b[39;00m \u001b[39mNone\u001b[39;00m\n\u001b[1;32m   1228\u001b[0m f \u001b[39m=\u001b[39m \u001b[39mself\u001b[39m\u001b[39m.\u001b[39mhandles\u001b[39m.\u001b[39mhandle\n",
            "File \u001b[0;32m~/.pyenv/versions/3.8.15/lib/python3.8/site-packages/pandas/io/common.py:789\u001b[0m, in \u001b[0;36mget_handle\u001b[0;34m(path_or_buf, mode, encoding, compression, memory_map, is_text, errors, storage_options)\u001b[0m\n\u001b[1;32m    784\u001b[0m \u001b[39melif\u001b[39;00m \u001b[39misinstance\u001b[39m(handle, \u001b[39mstr\u001b[39m):\n\u001b[1;32m    785\u001b[0m     \u001b[39m# Check whether the filename is to be opened in binary mode.\u001b[39;00m\n\u001b[1;32m    786\u001b[0m     \u001b[39m# Binary mode does not support 'encoding' and 'newline'.\u001b[39;00m\n\u001b[1;32m    787\u001b[0m     \u001b[39mif\u001b[39;00m ioargs\u001b[39m.\u001b[39mencoding \u001b[39mand\u001b[39;00m \u001b[39m\"\u001b[39m\u001b[39mb\u001b[39m\u001b[39m\"\u001b[39m \u001b[39mnot\u001b[39;00m \u001b[39min\u001b[39;00m ioargs\u001b[39m.\u001b[39mmode:\n\u001b[1;32m    788\u001b[0m         \u001b[39m# Encoding\u001b[39;00m\n\u001b[0;32m--> 789\u001b[0m         handle \u001b[39m=\u001b[39m \u001b[39mopen\u001b[39;49m(\n\u001b[1;32m    790\u001b[0m             handle,\n\u001b[1;32m    791\u001b[0m             ioargs\u001b[39m.\u001b[39;49mmode,\n\u001b[1;32m    792\u001b[0m             encoding\u001b[39m=\u001b[39;49mioargs\u001b[39m.\u001b[39;49mencoding,\n\u001b[1;32m    793\u001b[0m             errors\u001b[39m=\u001b[39;49merrors,\n\u001b[1;32m    794\u001b[0m             newline\u001b[39m=\u001b[39;49m\u001b[39m\"\u001b[39;49m\u001b[39m\"\u001b[39;49m,\n\u001b[1;32m    795\u001b[0m         )\n\u001b[1;32m    796\u001b[0m     \u001b[39melse\u001b[39;00m:\n\u001b[1;32m    797\u001b[0m         \u001b[39m# Binary mode\u001b[39;00m\n\u001b[1;32m    798\u001b[0m         handle \u001b[39m=\u001b[39m \u001b[39mopen\u001b[39m(handle, ioargs\u001b[39m.\u001b[39mmode)\n",
            "\u001b[0;31mFileNotFoundError\u001b[0m: [Errno 2] No such file or directory: 'input_files/TA_schedule.csv'"
          ]
        }
      ],
      "source": [
        "convertInputFilesToJSON()"
      ]
    },
    {
      "cell_type": "markdown",
      "metadata": {},
      "source": [
        "### Parse Courses"
      ]
    },
    {
      "cell_type": "code",
      "execution_count": null,
      "metadata": {},
      "outputs": [
        {
          "name": "stdout",
          "output_type": "stream",
          "text": [
            "Reading Course Data\n",
            "Writing Course Data to JSON file:  output_files/courses.json\n",
            "Total Courses added:  80\n"
          ]
        }
      ],
      "source": [
        "parseCourses()"
      ]
    },
    {
      "cell_type": "markdown",
      "metadata": {},
      "source": [
        "### Parse Sections"
      ]
    },
    {
      "cell_type": "code",
      "execution_count": null,
      "metadata": {},
      "outputs": [
        {
          "name": "stdout",
          "output_type": "stream",
          "text": [
            "Reading Course Data to Add Sections\n",
            "Writing Section Data to JSON file:  output_files/sections.json\n",
            "Total Sections added:  579\n"
          ]
        }
      ],
      "source": [
        "parseSections()"
      ]
    },
    {
      "cell_type": "markdown",
      "metadata": {},
      "source": [
        "### Parse Course Schedule"
      ]
    },
    {
      "cell_type": "code",
      "execution_count": null,
      "metadata": {},
      "outputs": [
        {
          "name": "stdout",
          "output_type": "stream",
          "text": [
            "Reading Course Data to Add Schedule\n",
            "Writing Schedule Data to JSON file:  output_files/schedule.json\n",
            "Total Schedule added:  715\n"
          ]
        }
      ],
      "source": [
        "parseSchedule()"
      ]
    },
    {
      "cell_type": "code",
      "execution_count": null,
      "metadata": {},
      "outputs": [
        {
          "name": "stdout",
          "output_type": "stream",
          "text": [
            "Writing FINAL Data to JSON file:  output_files/combined_section_data.json\n",
            "Total sections added in final data:  220\n",
            "Writing FINAL Data to JSON file:  output_files/all_section_data.json\n",
            "Total sections added in final data:  235\n"
          ]
        }
      ],
      "source": [
        "combine_course_schedules()"
      ]
    },
    {
      "cell_type": "code",
      "execution_count": null,
      "metadata": {},
      "outputs": [
        {
          "name": "stdout",
          "output_type": "stream",
          "text": [
            "Reading TA Data\n",
            "Writing TA Data to JSON file:  output_files/ta_schedule.json\n",
            "Total TAs added:  53\n"
          ]
        }
      ],
      "source": [
        "parseTAData()"
      ]
    },
    {
      "cell_type": "code",
      "execution_count": null,
      "metadata": {},
      "outputs": [
        {
          "name": "stdout",
          "output_type": "stream",
          "text": [
            "Writing Ins Pref Data to JSON file:  output_files/ins_pref.json\n",
            "Total preferences added:  42\n"
          ]
        }
      ],
      "source": [
        "parseInstructorPref()"
      ]
    },
    {
      "cell_type": "code",
      "execution_count": null,
      "metadata": {},
      "outputs": [
        {
          "name": "stdout",
          "output_type": "stream",
          "text": [
            "READING COMBINED SECTION DATA\n",
            "Processing Lab Data\n",
            "SAVING SECTION, LAB AND NON-LAB DATA INTO JSON FILES. OUTPUT FOLDER:  output_files/section_data\n",
            "NO OF TOTAL SECTIONS 134\n",
            "NO OF FINAL SECTIONS 64\n"
          ]
        }
      ],
      "source": [
        "create_final_sections()"
      ]
    },
    {
      "cell_type": "code",
      "execution_count": null,
      "metadata": {},
      "outputs": [
        {
          "name": "stdout",
          "output_type": "stream",
          "text": [
            "Conflict Breakdown Matrix initialised\n",
            "CONFLICT BREAKDOWN MATRIX SAVED TO: assignment_output_files/cost_break_down.json\n",
            "CONFLICT MATRIX JSON MAPPING SAVED TO:  output_files/conflict_matrix.json\n",
            "CONFLICT BREAKDOWN MATRIX SAVED TO: assignment_output_files/cost_break_down.json\n",
            "CONFLICT MATRIX SAVED TO  output_files/conflict_matrix.txt\n"
          ]
        }
      ],
      "source": [
        "computeConflictMatrix()"
      ]
    },
    {
      "cell_type": "code",
      "execution_count": null,
      "metadata": {},
      "outputs": [
        {
          "name": "stdout",
          "output_type": "stream",
          "text": [
            "Conflict matix loaded to use in algo\n"
          ]
        }
      ],
      "source": [
        "conf_matrix = getConflictMatFromTxt()"
      ]
    },
    {
      "cell_type": "code",
      "execution_count": null,
      "metadata": {},
      "outputs": [
        {
          "name": "stdout",
          "output_type": "stream",
          "text": [
            "([31, 4, 47, 29, 20, 13, 28, 34, 32, 3, 5, 7, 8, 6, 0, 9, 16, 11, 49, 51, 35, 10, 36, 37, 38, 1, 39, 40, 41, 42, 43, 33, 15, 2, 45, 14, 46, 12, 48, 30, 18, 50, 44, 52, -1, 17, 19, 21, -1, -1, -1, 22, -1, 23, -1, -1, 24, -1, 25, -1, 26, 27, -1, -1, 52], array([  0.,   0.,   0.,   0.,   0.,   0.,   0.,   0.,   0.,   0.,   0.,\n",
            "         0.,   0.,   0.,   0.,   0.,   0.,   0.,   0.,   0.,   0.,   0.,\n",
            "         0.,   0.,   0.,   0.,   0.,   0.,   4.,   8.,  12.,  16.,  20.,\n",
            "        24.,  28.,  32.,  36.,  40.,  44.,  48.,  52.,  56.,  60.,  64.,\n",
            "        68.,  72.,  76.,  80.,  84.,  88.,  92.,  96., 100.]))\n",
            "job 31 assigned to worker 0 with cost (j = 31, w = 0) = 4\n",
            "job 4 assigned to worker 1 with cost (j = 4, w = 1) = 4\n",
            "job 47 assigned to worker 2 with cost (j = 47, w = 2) = 4\n",
            "job 29 assigned to worker 3 with cost (j = 29, w = 3) = 0\n",
            "job 20 assigned to worker 4 with cost (j = 20, w = 4) = 0\n",
            "job 13 assigned to worker 5 with cost (j = 13, w = 5) = 0\n",
            "job 28 assigned to worker 6 with cost (j = 28, w = 6) = 4\n",
            "job 34 assigned to worker 7 with cost (j = 34, w = 7) = 4\n",
            "job 32 assigned to worker 8 with cost (j = 32, w = 8) = 4\n",
            "job 3 assigned to worker 9 with cost (j = 3, w = 9) = 0\n",
            "job 5 assigned to worker 10 with cost (j = 5, w = 10) = 0\n",
            "job 7 assigned to worker 11 with cost (j = 7, w = 11) = 0\n",
            "job 8 assigned to worker 12 with cost (j = 8, w = 12) = 0\n",
            "job 6 assigned to worker 13 with cost (j = 6, w = 13) = 0\n",
            "job 0 assigned to worker 14 with cost (j = 0, w = 14) = 0\n",
            "job 9 assigned to worker 15 with cost (j = 9, w = 15) = 0\n",
            "job 16 assigned to worker 16 with cost (j = 16, w = 16) = 0\n",
            "job 11 assigned to worker 17 with cost (j = 11, w = 17) = 0\n",
            "job 49 assigned to worker 18 with cost (j = 49, w = 18) = 0\n",
            "job 51 assigned to worker 19 with cost (j = 51, w = 19) = 4\n",
            "job 35 assigned to worker 20 with cost (j = 35, w = 20) = 4\n",
            "job 10 assigned to worker 21 with cost (j = 10, w = 21) = 0\n",
            "job 36 assigned to worker 22 with cost (j = 36, w = 22) = 4\n",
            "job 37 assigned to worker 23 with cost (j = 37, w = 23) = 4\n",
            "job 38 assigned to worker 24 with cost (j = 38, w = 24) = 4\n",
            "job 1 assigned to worker 25 with cost (j = 1, w = 25) = 0\n",
            "job 39 assigned to worker 26 with cost (j = 39, w = 26) = 4\n",
            "job 40 assigned to worker 27 with cost (j = 40, w = 27) = 4\n",
            "job 41 assigned to worker 28 with cost (j = 41, w = 28) = 4\n",
            "job 42 assigned to worker 29 with cost (j = 42, w = 29) = 4\n",
            "job 43 assigned to worker 30 with cost (j = 43, w = 30) = 4\n",
            "job 33 assigned to worker 31 with cost (j = 33, w = 31) = 4\n",
            "job 15 assigned to worker 32 with cost (j = 15, w = 32) = 0\n",
            "job 2 assigned to worker 33 with cost (j = 2, w = 33) = 0\n",
            "job 45 assigned to worker 34 with cost (j = 45, w = 34) = 4\n",
            "job 14 assigned to worker 35 with cost (j = 14, w = 35) = 0\n",
            "job 46 assigned to worker 36 with cost (j = 46, w = 36) = 4\n",
            "job 12 assigned to worker 37 with cost (j = 12, w = 37) = 4\n",
            "job 48 assigned to worker 38 with cost (j = 48, w = 38) = 4\n",
            "job 30 assigned to worker 39 with cost (j = 30, w = 39) = 4\n",
            "job 18 assigned to worker 40 with cost (j = 18, w = 40) = 0\n",
            "job 50 assigned to worker 41 with cost (j = 50, w = 41) = 4\n",
            "job 44 assigned to worker 42 with cost (j = 44, w = 42) = 4\n",
            "job 52 assigned to worker 43 with cost (j = 52, w = 43) = 4\n",
            "job -1 assigned to worker 44 with cost (j = -1, w = 44) = NA\n",
            "No TAs assigned to Course 45:  | CSCI4720 with CRN: [39857] under instructor Wenwen Wang with cost (j = -1, w = 44) = NA\n",
            "job 17 assigned to worker 45 with cost (j = 17, w = 45) = 0\n",
            "job 19 assigned to worker 46 with cost (j = 19, w = 46) = 0\n",
            "job 21 assigned to worker 47 with cost (j = 21, w = 47) = 0\n",
            "job -1 assigned to worker 48 with cost (j = -1, w = 48) = NA\n",
            "No TAs assigned to Course 49:  | CSCI2720 with CRN: [42634] under instructor Sachin Meena with cost (j = -1, w = 48) = NA\n",
            "job -1 assigned to worker 49 with cost (j = -1, w = 49) = NA\n",
            "No TAs assigned to Course 50:  | CSCI2720 with CRN: [42634] under instructor Sachin Meena with cost (j = -1, w = 49) = NA\n",
            "job -1 assigned to worker 50 with cost (j = -1, w = 50) = NA\n",
            "No TAs assigned to Course 51:  | CSCI4300 with CRN: [44457] under instructor Diane Stephens with cost (j = -1, w = 50) = NA\n",
            "job 22 assigned to worker 51 with cost (j = 22, w = 51) = 0\n",
            "job -1 assigned to worker 52 with cost (j = -1, w = 52) = NA\n",
            "No TAs assigned to Course 53:  | CSCI1300 with CRN: [47208] under instructor Rezwan Mahmud with cost (j = -1, w = 52) = NA\n",
            "job 23 assigned to worker 53 with cost (j = 23, w = 53) = 0\n",
            "job -1 assigned to worker 54 with cost (j = -1, w = 54) = NA\n",
            "No TAs assigned to Course 55:  | CSCI4810 with CRN: [52937, 52938] under instructor Ingrid Hybinette with cost (j = -1, w = 54) = NA\n",
            "job -1 assigned to worker 55 with cost (j = -1, w = 55) = NA\n",
            "No TAs assigned to Course 56:  | CSCI4380 with CRN: [52979, 52981] under instructor Fei Dou with cost (j = -1, w = 55) = NA\n",
            "job 24 assigned to worker 56 with cost (j = 24, w = 56) = 0\n",
            "job -1 assigned to worker 57 with cost (j = -1, w = 57) = NA\n",
            "No TAs assigned to Course 58:  | CSCI4760 with CRN: [56590] under instructor Manijeh Keshtgari with cost (j = -1, w = 57) = NA\n",
            "job 25 assigned to worker 58 with cost (j = 25, w = 58) = 0\n",
            "job -1 assigned to worker 59 with cost (j = -1, w = 59) = NA\n",
            "No TAs assigned to Course 60:  | CSCI4470 with CRN: [57947] under instructor Sachin Meena with cost (j = -1, w = 59) = NA\n",
            "job 26 assigned to worker 60 with cost (j = 26, w = 60) = 0\n",
            "job 27 assigned to worker 61 with cost (j = 27, w = 61) = 0\n",
            "job -1 assigned to worker 62 with cost (j = -1, w = 62) = NA\n",
            "No TAs assigned to Course 63:  | CSCI2720 with CRN: [58119] under instructor Jin Lu with cost (j = -1, w = 62) = NA\n",
            "job -1 assigned to worker 63 with cost (j = -1, w = 63) = NA\n",
            "No TAs assigned to Course 64:  | CSCI2610 with CRN: [59046] under instructor Shelby Funk with cost (j = -1, w = 63) = NA\n",
            "accumulating costs: [  0.   0.   0.   0.   0.   0.   0.   0.   0.   0.   0.   0.   0.   0.\n",
            "   0.   0.   0.   0.   0.   0.   0.   0.   0.   0.   0.   0.   0.   0.\n",
            "   4.   8.  12.  16.  20.  24.  28.  32.  36.  40.  44.  48.  52.  56.\n",
            "  60.  64.  68.  72.  76.  80.  84.  88.  92.  96. 100.]\n",
            "\n",
            "\n",
            "------------------------------------------------\n",
            "\n",
            "\n",
            "TOTAL TA assigned:  53\n",
            "TOTAL Unassigned Classes:  11\n",
            "\n",
            "\n",
            "------------------------------------------------\n",
            "\n",
            "Unassigned courses: \n",
            "1. CSCI4720 | Lab = False | NAME: Computer Architecture Organiza\n",
            "2. CSCI2720 | Lab = False | NAME: Data Structures\n",
            "3. CSCI2720 | Lab = False | NAME: Data Structures\n",
            "4. CSCI4300 | Lab = False | NAME: Web Programming\n",
            "5. CSCI1300 | Lab = False | NAME: Intro to Python Programming\n",
            "6. CSCI4810 | Lab = False | NAME: Computer Graphics\n",
            "7. CSCI4380 | Lab = False | NAME: Data Mining\n",
            "8. CSCI4760 | Lab = False | NAME: Computer Networks\n",
            "9. CSCI4470 | Lab = False | NAME: Algorithms\n",
            "10. CSCI2720 | Lab = False | NAME: Data Structures\n",
            "11. CSCI2610 | Lab = False | NAME: Discrete Mathematics for CSCI\n"
          ]
        }
      ],
      "source": [
        "assignments = hungarian(conf_matrix, print_results=False)\n",
        "print(assignments)\n",
        "showAssignments(assignments, conf_matrix)"
      ]
    },
    {
      "cell_type": "code",
      "execution_count": null,
      "metadata": {},
      "outputs": [
        {
          "name": "stdout",
          "output_type": "stream",
          "text": [
            "TOTAL TAs before Duplication:  53\n",
            "TOTAL TAs after Duplication: \n",
            "63\n",
            "\n"
          ]
        }
      ],
      "source": [
        "# WE NEED TO DUPLICATE TAs WHO HAVE BEEN ASSIGNED TO CLASS LESS THAN 40 (CAPACITY_CAP) ENROLLMENT\n",
        "\n",
        "duplicateTAs()"
      ]
    },
    {
      "cell_type": "code",
      "execution_count": null,
      "metadata": {},
      "outputs": [
        {
          "name": "stdout",
          "output_type": "stream",
          "text": [
            "Conflict Breakdown Matrix initialised\n",
            "CONFLICT BREAKDOWN MATRIX SAVED TO: assignment_output_files/cost_break_down.json\n",
            "CONFLICT MATRIX JSON MAPPING SAVED TO:  output_files/conflict_matrix.json\n",
            "CONFLICT BREAKDOWN MATRIX SAVED TO: assignment_output_files/cost_break_down.json\n",
            "CONFLICT MATRIX SAVED TO  output_files/conflict_matrix.txt\n",
            "Conflict matix loaded to use in algo\n",
            "([31, 4, 47, 29, 20, 13, 28, 34, 32, 3, 5, 7, 8, 6, 55, 9, 16, 11, 49, 51, 53, 10, 36, 37, 38, 1, 39, 40, 41, 42, 43, 33, 15, 2, 45, 14, 46, 12, 48, 30, 18, 50, 44, 52, 35, 17, 19, 21, 54, 0, 56, 22, 57, 23, 58, 59, 24, 60, 25, 61, 26, 27, 62, -1, 62], array([  0.,   0.,   0.,   0.,   0.,   0.,   0.,   0.,   0.,   0.,   0.,\n",
            "         0.,   0.,   0.,   0.,   0.,   0.,   0.,   0.,   0.,   0.,   0.,\n",
            "         0.,   0.,   0.,   0.,   0.,   0.,   4.,   8.,  12.,  16.,  20.,\n",
            "        24.,  28.,  32.,  36.,  40.,  44.,  48.,  52.,  56.,  60.,  64.,\n",
            "        68.,  72.,  76.,  80.,  84.,  88.,  92.,  96., 100., 104., 108.,\n",
            "       112., 116., 120., 124., 128., 132., 136., 140.]))\n",
            "accumulating costs: [  0.   0.   0.   0.   0.   0.   0.   0.   0.   0.   0.   0.   0.   0.\n",
            "   0.   0.   0.   0.   0.   0.   0.   0.   0.   0.   0.   0.   0.   0.\n",
            "   4.   8.  12.  16.  20.  24.  28.  32.  36.  40.  44.  48.  52.  56.\n",
            "  60.  64.  68.  72.  76.  80.  84.  88.  92.  96. 100. 104. 108. 112.\n",
            " 116. 120. 124. 128. 132. 136. 140.]\n",
            "\n",
            "\n",
            "------------------------------------------------\n",
            "\n",
            "\n",
            "TOTAL TA assigned:  63\n",
            "TOTAL Unassigned Classes:  1\n",
            "\n",
            "\n",
            "------------------------------------------------\n",
            "\n",
            "Unassigned courses: \n",
            "1. CSCI2610 | Lab = False | NAME: Discrete Mathematics for CSCI\n"
          ]
        }
      ],
      "source": [
        "# RUN THE HUNGARIAN ON THE NEW CONFLICT MATRIX AGAIN\n",
        "computeConflictMatrix()\n",
        "conf_matrix = getConflictMatFromTxt()\n",
        "assignments = hungarian(conf_matrix, print_results=False)\n",
        "print(assignments)\n",
        "showAssignments(assignments, conf_matrix, showLogs=False)"
      ]
    },
    {
      "cell_type": "code",
      "execution_count": null,
      "metadata": {},
      "outputs": [
        {
          "name": "stdout",
          "output_type": "stream",
          "text": [
            "INCREMENTAL DUPLICATION: \n",
            "NO OF TAs: 64\n",
            "Conflict Breakdown Matrix initialised\n",
            "CONFLICT BREAKDOWN MATRIX SAVED TO: assignment_output_files/cost_break_down.json\n",
            "CONFLICT MATRIX JSON MAPPING SAVED TO:  output_files/conflict_matrix.json\n",
            "CONFLICT BREAKDOWN MATRIX SAVED TO: assignment_output_files/cost_break_down.json\n",
            "CONFLICT MATRIX SAVED TO  output_files/conflict_matrix.txt\n",
            "Conflict matix loaded to use in algo\n",
            "([31, 4, 47, 29, 20, 13, 28, 34, 32, 3, 5, 7, 8, 6, 55, 9, 16, 11, 49, 51, 53, 10, 36, 37, 38, 1, 39, 40, 41, 42, 43, 33, 15, 2, 45, 14, 46, 12, 48, 30, 18, 50, 44, 52, 35, 17, 19, 21, 54, 0, 56, 22, 57, 23, 58, 59, 24, 60, 25, 61, 26, 27, 62, 63, 63], array([  0.,   0.,   0.,   0.,   0.,   0.,   0.,   0.,   0.,   0.,   0.,\n",
            "         0.,   0.,   0.,   0.,   0.,   0.,   0.,   0.,   0.,   0.,   0.,\n",
            "         0.,   0.,   0.,   0.,   0.,   0.,   4.,   8.,  12.,  16.,  20.,\n",
            "        24.,  28.,  32.,  36.,  40.,  44.,  48.,  52.,  56.,  60.,  64.,\n",
            "        68.,  72.,  76.,  80.,  84.,  88.,  92.,  96., 100., 104., 108.,\n",
            "       112., 116., 120., 124., 128., 132., 136., 140., 144.]))\n",
            "accumulating costs: [  0.   0.   0.   0.   0.   0.   0.   0.   0.   0.   0.   0.   0.   0.\n",
            "   0.   0.   0.   0.   0.   0.   0.   0.   0.   0.   0.   0.   0.   0.\n",
            "   4.   8.  12.  16.  20.  24.  28.  32.  36.  40.  44.  48.  52.  56.\n",
            "  60.  64.  68.  72.  76.  80.  84.  88.  92.  96. 100. 104. 108. 112.\n",
            " 116. 120. 124. 128. 132. 136. 140. 144.]\n",
            "\n",
            "\n",
            "------------------------------------------------\n",
            "\n",
            "\n",
            "TOTAL TA assigned:  64\n",
            "TOTAL Unassigned Classes:  0\n"
          ]
        }
      ],
      "source": [
        "\n",
        "with open(\"assignment_output_files/unassigned_courses.json\", 'r') as file:\n",
        "    unassignedCourses = json.load(file)\n",
        "while len(unassignedCourses) != 0:\n",
        "    incremental_TA_duplication()\n",
        "    computeConflictMatrix()\n",
        "    conf_matrix = getConflictMatFromTxt()\n",
        "    assignments = hungarian(conf_matrix, print_results=False)\n",
        "    print(assignments)\n",
        "    showAssignments(assignments, conf_matrix, showLogs=False)\n",
        "    with open(\"assignment_output_files/unassigned_courses.json\", 'r') as file:\n",
        "        unassignedCourses = json.load(file)\n"
      ]
    },
    {
      "cell_type": "code",
      "execution_count": null,
      "metadata": {},
      "outputs": [
        {
          "name": "stdout",
          "output_type": "stream",
          "text": [
            "job 31 assigned to worker 0 with cost (j = 31, w = 0) = 4\n",
            "job 4 assigned to worker 1 with cost (j = 4, w = 1) = 4\n",
            "job 47 assigned to worker 2 with cost (j = 47, w = 2) = 4\n",
            "job 29 assigned to worker 3 with cost (j = 29, w = 3) = 0\n",
            "job 20 assigned to worker 4 with cost (j = 20, w = 4) = 0\n",
            "job 13 assigned to worker 5 with cost (j = 13, w = 5) = 0\n",
            "job 28 assigned to worker 6 with cost (j = 28, w = 6) = 4\n",
            "job 34 assigned to worker 7 with cost (j = 34, w = 7) = 4\n",
            "job 32 assigned to worker 8 with cost (j = 32, w = 8) = 4\n",
            "job 3 assigned to worker 9 with cost (j = 3, w = 9) = 0\n",
            "job 5 assigned to worker 10 with cost (j = 5, w = 10) = 0\n",
            "job 7 assigned to worker 11 with cost (j = 7, w = 11) = 0\n",
            "job 8 assigned to worker 12 with cost (j = 8, w = 12) = 0\n",
            "job 6 assigned to worker 13 with cost (j = 6, w = 13) = 0\n",
            "job 55 assigned to worker 14 with cost (j = 55, w = 14) = 0\n",
            "job 9 assigned to worker 15 with cost (j = 9, w = 15) = 0\n",
            "job 16 assigned to worker 16 with cost (j = 16, w = 16) = 0\n",
            "job 11 assigned to worker 17 with cost (j = 11, w = 17) = 0\n",
            "job 49 assigned to worker 18 with cost (j = 49, w = 18) = 0\n",
            "job 51 assigned to worker 19 with cost (j = 51, w = 19) = 4\n",
            "job 53 assigned to worker 20 with cost (j = 53, w = 20) = 4\n",
            "job 10 assigned to worker 21 with cost (j = 10, w = 21) = 0\n",
            "job 36 assigned to worker 22 with cost (j = 36, w = 22) = 4\n",
            "job 37 assigned to worker 23 with cost (j = 37, w = 23) = 4\n",
            "job 38 assigned to worker 24 with cost (j = 38, w = 24) = 4\n",
            "job 1 assigned to worker 25 with cost (j = 1, w = 25) = 0\n",
            "job 39 assigned to worker 26 with cost (j = 39, w = 26) = 4\n",
            "job 40 assigned to worker 27 with cost (j = 40, w = 27) = 4\n",
            "job 41 assigned to worker 28 with cost (j = 41, w = 28) = 4\n",
            "job 42 assigned to worker 29 with cost (j = 42, w = 29) = 4\n",
            "job 43 assigned to worker 30 with cost (j = 43, w = 30) = 4\n",
            "job 33 assigned to worker 31 with cost (j = 33, w = 31) = 4\n",
            "job 15 assigned to worker 32 with cost (j = 15, w = 32) = 0\n",
            "job 2 assigned to worker 33 with cost (j = 2, w = 33) = 0\n",
            "job 45 assigned to worker 34 with cost (j = 45, w = 34) = 4\n",
            "job 14 assigned to worker 35 with cost (j = 14, w = 35) = 0\n",
            "job 46 assigned to worker 36 with cost (j = 46, w = 36) = 4\n",
            "job 12 assigned to worker 37 with cost (j = 12, w = 37) = 4\n",
            "job 48 assigned to worker 38 with cost (j = 48, w = 38) = 4\n",
            "job 30 assigned to worker 39 with cost (j = 30, w = 39) = 4\n",
            "job 18 assigned to worker 40 with cost (j = 18, w = 40) = 0\n",
            "job 50 assigned to worker 41 with cost (j = 50, w = 41) = 4\n",
            "job 44 assigned to worker 42 with cost (j = 44, w = 42) = 4\n",
            "job 52 assigned to worker 43 with cost (j = 52, w = 43) = 4\n",
            "job 35 assigned to worker 44 with cost (j = 35, w = 44) = 4\n",
            "job 17 assigned to worker 45 with cost (j = 17, w = 45) = 0\n",
            "job 19 assigned to worker 46 with cost (j = 19, w = 46) = 0\n",
            "job 21 assigned to worker 47 with cost (j = 21, w = 47) = 0\n",
            "job 54 assigned to worker 48 with cost (j = 54, w = 48) = 4\n",
            "job 0 assigned to worker 49 with cost (j = 0, w = 49) = 4\n",
            "job 56 assigned to worker 50 with cost (j = 56, w = 50) = 4\n",
            "job 22 assigned to worker 51 with cost (j = 22, w = 51) = 0\n",
            "job 57 assigned to worker 52 with cost (j = 57, w = 52) = 4\n",
            "job 23 assigned to worker 53 with cost (j = 23, w = 53) = 0\n",
            "job 58 assigned to worker 54 with cost (j = 58, w = 54) = 4\n",
            "job 59 assigned to worker 55 with cost (j = 59, w = 55) = 4\n",
            "job 24 assigned to worker 56 with cost (j = 24, w = 56) = 0\n",
            "job 60 assigned to worker 57 with cost (j = 60, w = 57) = 4\n",
            "job 25 assigned to worker 58 with cost (j = 25, w = 58) = 0\n",
            "job 61 assigned to worker 59 with cost (j = 61, w = 59) = 4\n",
            "job 26 assigned to worker 60 with cost (j = 26, w = 60) = 0\n",
            "job 27 assigned to worker 61 with cost (j = 27, w = 61) = 0\n",
            "job 62 assigned to worker 62 with cost (j = 62, w = 62) = 4\n",
            "job 63 assigned to worker 63 with cost (j = 63, w = 63) = 4\n",
            "accumulating costs: [  0.   0.   0.   0.   0.   0.   0.   0.   0.   0.   0.   0.   0.   0.\n",
            "   0.   0.   0.   0.   0.   0.   0.   0.   0.   0.   0.   0.   0.   0.\n",
            "   4.   8.  12.  16.  20.  24.  28.  32.  36.  40.  44.  48.  52.  56.\n",
            "  60.  64.  68.  72.  76.  80.  84.  88.  92.  96. 100. 104. 108. 112.\n",
            " 116. 120. 124. 128. 132. 136. 140. 144.]\n",
            "\n",
            "\n",
            "------------------------------------------------\n",
            "\n",
            "\n",
            "TOTAL TA assigned:  64\n",
            "TOTAL Unassigned Classes:  0\n"
          ]
        }
      ],
      "source": [
        "showAssignments(assignments, conf_matrix)"
      ]
    },
    {
      "cell_type": "code",
      "execution_count": null,
      "metadata": {},
      "outputs": [
        {
          "name": "stdout",
          "output_type": "stream",
          "text": [
            "DUPLICATE TAs\n",
            "------------------------------------------------\n",
            "fr24721@uga.edu\n",
            "sb66469@uga.edu\n",
            "vrb18212@uga.edu\n",
            "nikhita.biradar@uga.edu\n",
            "ehsanasali@uga.edu\n",
            "ruili.fang@uga.edu\n",
            "aag53521@uga.edu\n",
            "ap22943@uga.edu\n",
            "tt59612@uga.edu\n",
            "ct48249@uga.edu\n",
            "vg80700@uga.edu\n",
            "------------------------------------------------\n"
          ]
        }
      ],
      "source": [
        "splitTAhours()"
      ]
    }
  ],
  "metadata": {
    "kernelspec": {
      "display_name": "Python 3.8.15 64-bit ('3.8.15')",
      "language": "python",
      "name": "python3"
    },
    "language_info": {
      "codemirror_mode": {
        "name": "ipython",
        "version": 3
      },
      "file_extension": ".py",
      "mimetype": "text/x-python",
      "name": "python",
      "nbconvert_exporter": "python",
      "pygments_lexer": "ipython3",
      "version": "3.8.15"
    },
    "orig_nbformat": 4,
    "vscode": {
      "interpreter": {
        "hash": "f6c1b959117ce198007dad0c2777d0ba2ce16c9491a765cd0546531856a9bbf5"
      }
    }
  },
  "nbformat": 4,
  "nbformat_minor": 2
}
