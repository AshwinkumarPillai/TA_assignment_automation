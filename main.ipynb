{
  "cells": [
    {
      "cell_type": "code",
      "execution_count": null,
      "metadata": {},
      "outputs": [],
      "source": [
        "# from src.utils.setCurrDirToBase import setCurrDirToBase\n",
        "# setCurrDirToBase()"
      ]
    },
    {
      "cell_type": "code",
      "execution_count": null,
      "metadata": {},
      "outputs": [],
      "source": [
        "import json\n",
        "# FOLDER CHECK\n",
        "\n",
        "from ta_assignment_automation import create_required_folders\n",
        "create_required_folders()\n",
        "\n",
        "# Scripts\n",
        "from ta_assignment_automation import parseCourses\n",
        "from ta_assignment_automation import parseSections\n",
        "from ta_assignment_automation import parseSchedule\n",
        "from ta_assignment_automation import combine_course_schedules\n",
        "from ta_assignment_automation import parseTAData\n",
        "from ta_assignment_automation import parseInstructorPref\n",
        "from ta_assignment_automation import computeConflictMatrix\n",
        "from ta_assignment_automation import create_final_sections\n",
        "from ta_assignment_automation import duplicateTAs\n",
        "from ta_assignment_automation import incremental_TA_duplication\n"
      ]
    },
    {
      "cell_type": "code",
      "execution_count": null,
      "metadata": {},
      "outputs": [],
      "source": [
        "# Utility files\n",
        "from ta_assignment_automation import getConflictMatFromTxt\n",
        "from ta_assignment_automation import showAssignments\n",
        "from ta_assignment_automation import splitTAhours\n",
        "from ta_assignment_automation import convertInputFilesToJSON\n"
      ]
    },
    {
      "cell_type": "code",
      "execution_count": null,
      "metadata": {},
      "outputs": [],
      "source": [
        "# Algorithms\n",
        "from ta_assignment_automation import hungarian"
      ]
    },
    {
      "cell_type": "markdown",
      "metadata": {},
      "source": [
        "# PHASE 1\n",
        "### In this phase all the input files will be processed and the scripts will create courses, section, schedule, TA and instructor preference data."
      ]
    },
    {
      "cell_type": "code",
      "execution_count": null,
      "metadata": {},
      "outputs": [],
      "source": [
        "convertInputFilesToJSON() # convert input CSV files to JSON for processing\n",
        "parseCourses()\n",
        "parseSections()\n",
        "parseSchedule()\n",
        "combine_course_schedules()\n",
        "parseTAData()\n",
        "parseInstructorPref()\n",
        "create_final_sections()"
      ]
    },
    {
      "cell_type": "markdown",
      "metadata": {},
      "source": [
        "# Phase 2\n",
        "### After all the data has been processed we proceed with creating the conflict matrix and running the hungarian algorithm"
      ]
    },
    {
      "cell_type": "code",
      "execution_count": null,
      "metadata": {},
      "outputs": [],
      "source": [
        "computeConflictMatrix()                                         # create conflict matrix and save it locally\n",
        "conf_matrix = getConflictMatFromTxt()                           # get the matrix from the text file\n",
        "assignments = hungarian(conf_matrix, print_results=False)       # Run the hungarian algorithm\n",
        "print(assignments)                                      \n",
        "showAssignments(assignments, conf_matrix)                       # Show assignments - will also create the final assignment data locally"
      ]
    },
    {
      "cell_type": "markdown",
      "metadata": {},
      "source": [
        "# Phase 3\n",
        "### After the initial assignment, we need to assign the TAs who have been assigned for classes with less hours"
      ]
    },
    {
      "cell_type": "code",
      "execution_count": null,
      "metadata": {},
      "outputs": [],
      "source": [
        "# WE NEED TO DUPLICATE TAs WHO HAVE BEEN ASSIGNED TO CLASS LESS THAN 40 (CAPACITY_CAP) ENROLLMENT\n",
        "duplicateTAs()\n",
        "# RUN THE HUNGARIAN ON THE NEW CONFLICT MATRIX AGAIN\n",
        "computeConflictMatrix()\n",
        "conf_matrix = getConflictMatFromTxt()\n",
        "assignments = hungarian(conf_matrix, print_results=False)\n",
        "print(assignments)\n",
        "showAssignments(assignments, conf_matrix, showLogs=False)"
      ]
    },
    {
      "cell_type": "markdown",
      "metadata": {},
      "source": [
        "# Phase 4\n",
        "### If there are any unassigned courses left -> we find the next available TA and run hungarian again\n",
        "### This will happen untill all unassigned courses have been assigned or if the number of TAs become equal to the number of courses"
      ]
    },
    {
      "cell_type": "code",
      "execution_count": null,
      "metadata": {},
      "outputs": [],
      "source": [
        "# Check if courses are left unassigned\n",
        "with open(\"assignment_output_files/unassigned_courses.json\", 'r') as file:\n",
        "    unassignedCourses = json.load(file)\n",
        "\n",
        "# keep finding next available TA and run assignments until all unassigned courses have been assigned \n",
        "# or if the number of TAs become equal to the number of courses\n",
        "while len(unassignedCourses) != 0:\n",
        "    incremental_TA_duplication()\n",
        "    computeConflictMatrix()\n",
        "    conf_matrix = getConflictMatFromTxt()\n",
        "    assignments = hungarian(conf_matrix, print_results=False)\n",
        "    print(assignments)\n",
        "    showAssignments(assignments, conf_matrix, showLogs=False)\n",
        "    with open(\"assignment_output_files/unassigned_courses.json\", 'r') as file:\n",
        "        unassignedCourses = json.load(file)\n",
        "\n",
        "\n",
        "showAssignments(assignments, conf_matrix)\n",
        "splitTAhours() # SPLIT TA hours for TAs who have been assigned to more than one class"
      ]
    }
  ],
  "metadata": {
    "kernelspec": {
      "display_name": "Python 3.8.15 64-bit ('3.8.15')",
      "language": "python",
      "name": "python3"
    },
    "language_info": {
      "codemirror_mode": {
        "name": "ipython",
        "version": 3
      },
      "file_extension": ".py",
      "mimetype": "text/x-python",
      "name": "python",
      "nbconvert_exporter": "python",
      "pygments_lexer": "ipython3",
      "version": "3.8.15"
    },
    "orig_nbformat": 4,
    "vscode": {
      "interpreter": {
        "hash": "f6c1b959117ce198007dad0c2777d0ba2ce16c9491a765cd0546531856a9bbf5"
      }
    }
  },
  "nbformat": 4,
  "nbformat_minor": 2
}
